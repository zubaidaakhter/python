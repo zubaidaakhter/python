{
 "cells": [
  {
   "cell_type": "markdown",
   "id": "86b88058",
   "metadata": {},
   "source": [
    "<h1>Maternal Health Risk Data Set</h1>\n",
    "<h2> FINAL PROJECT ON MACHINE LEARNING MODEL</h2>\n",
    "<h2>PROGRAMMING IN PYTHON</h2>\n",
    "<h2> SECTION:A </h2>\n",
    " "
   ]
  },
  {
   "cell_type": "code",
   "execution_count": 15,
   "id": "5e8e4635",
   "metadata": {},
   "outputs": [],
   "source": [
    "#importing necessary python libraries\n",
    "import numpy as np\n",
    "import pandas as pd\n",
    "import matplotlib.pyplot as plt\n",
    "import seaborn as sns\n",
    "from sklearn import metrics\n",
    "%matplotlib inline"
   ]
  },
  {
   "cell_type": "markdown",
   "id": "84be3e9a",
   "metadata": {},
   "source": [
    "<h3>Dataset reference</h3>\n",
    "\n",
    "https://archive.ics.uci.edu/ml/datasets/Maternal+Health+Risk+Data+Set\n"
   ]
  },
  {
   "cell_type": "code",
   "execution_count": 16,
   "id": "d7692c20",
   "metadata": {},
   "outputs": [
    {
     "data": {
      "text/html": [
       "<div>\n",
       "<style scoped>\n",
       "    .dataframe tbody tr th:only-of-type {\n",
       "        vertical-align: middle;\n",
       "    }\n",
       "\n",
       "    .dataframe tbody tr th {\n",
       "        vertical-align: top;\n",
       "    }\n",
       "\n",
       "    .dataframe thead th {\n",
       "        text-align: right;\n",
       "    }\n",
       "</style>\n",
       "<table border=\"1\" class=\"dataframe\">\n",
       "  <thead>\n",
       "    <tr style=\"text-align: right;\">\n",
       "      <th></th>\n",
       "      <th>AGE</th>\n",
       "      <th>SBP</th>\n",
       "      <th>DBP</th>\n",
       "      <th>BS</th>\n",
       "      <th>BTM</th>\n",
       "      <th>HRT</th>\n",
       "      <th>RLV</th>\n",
       "    </tr>\n",
       "  </thead>\n",
       "  <tbody>\n",
       "    <tr>\n",
       "      <th>0</th>\n",
       "      <td>25</td>\n",
       "      <td>130</td>\n",
       "      <td>80</td>\n",
       "      <td>15.0</td>\n",
       "      <td>98.0</td>\n",
       "      <td>86</td>\n",
       "      <td>high risk</td>\n",
       "    </tr>\n",
       "    <tr>\n",
       "      <th>1</th>\n",
       "      <td>35</td>\n",
       "      <td>140</td>\n",
       "      <td>90</td>\n",
       "      <td>13.0</td>\n",
       "      <td>98.0</td>\n",
       "      <td>70</td>\n",
       "      <td>high risk</td>\n",
       "    </tr>\n",
       "    <tr>\n",
       "      <th>2</th>\n",
       "      <td>29</td>\n",
       "      <td>90</td>\n",
       "      <td>70</td>\n",
       "      <td>8.0</td>\n",
       "      <td>100.0</td>\n",
       "      <td>80</td>\n",
       "      <td>high risk</td>\n",
       "    </tr>\n",
       "    <tr>\n",
       "      <th>3</th>\n",
       "      <td>30</td>\n",
       "      <td>140</td>\n",
       "      <td>85</td>\n",
       "      <td>7.0</td>\n",
       "      <td>98.0</td>\n",
       "      <td>70</td>\n",
       "      <td>high risk</td>\n",
       "    </tr>\n",
       "    <tr>\n",
       "      <th>4</th>\n",
       "      <td>35</td>\n",
       "      <td>120</td>\n",
       "      <td>60</td>\n",
       "      <td>6.1</td>\n",
       "      <td>98.0</td>\n",
       "      <td>76</td>\n",
       "      <td>low risk</td>\n",
       "    </tr>\n",
       "    <tr>\n",
       "      <th>...</th>\n",
       "      <td>...</td>\n",
       "      <td>...</td>\n",
       "      <td>...</td>\n",
       "      <td>...</td>\n",
       "      <td>...</td>\n",
       "      <td>...</td>\n",
       "      <td>...</td>\n",
       "    </tr>\n",
       "    <tr>\n",
       "      <th>1009</th>\n",
       "      <td>22</td>\n",
       "      <td>120</td>\n",
       "      <td>60</td>\n",
       "      <td>15.0</td>\n",
       "      <td>98.0</td>\n",
       "      <td>80</td>\n",
       "      <td>high risk</td>\n",
       "    </tr>\n",
       "    <tr>\n",
       "      <th>1010</th>\n",
       "      <td>55</td>\n",
       "      <td>120</td>\n",
       "      <td>90</td>\n",
       "      <td>18.0</td>\n",
       "      <td>98.0</td>\n",
       "      <td>60</td>\n",
       "      <td>high risk</td>\n",
       "    </tr>\n",
       "    <tr>\n",
       "      <th>1011</th>\n",
       "      <td>35</td>\n",
       "      <td>85</td>\n",
       "      <td>60</td>\n",
       "      <td>19.0</td>\n",
       "      <td>98.0</td>\n",
       "      <td>86</td>\n",
       "      <td>high risk</td>\n",
       "    </tr>\n",
       "    <tr>\n",
       "      <th>1012</th>\n",
       "      <td>43</td>\n",
       "      <td>120</td>\n",
       "      <td>90</td>\n",
       "      <td>18.0</td>\n",
       "      <td>98.0</td>\n",
       "      <td>70</td>\n",
       "      <td>high risk</td>\n",
       "    </tr>\n",
       "    <tr>\n",
       "      <th>1013</th>\n",
       "      <td>32</td>\n",
       "      <td>120</td>\n",
       "      <td>65</td>\n",
       "      <td>6.0</td>\n",
       "      <td>101.0</td>\n",
       "      <td>76</td>\n",
       "      <td>mid risk</td>\n",
       "    </tr>\n",
       "  </tbody>\n",
       "</table>\n",
       "<p>1014 rows × 7 columns</p>\n",
       "</div>"
      ],
      "text/plain": [
       "      AGE  SBP  DBP    BS    BTM  HRT        RLV\n",
       "0      25  130   80  15.0   98.0   86  high risk\n",
       "1      35  140   90  13.0   98.0   70  high risk\n",
       "2      29   90   70   8.0  100.0   80  high risk\n",
       "3      30  140   85   7.0   98.0   70  high risk\n",
       "4      35  120   60   6.1   98.0   76   low risk\n",
       "...   ...  ...  ...   ...    ...  ...        ...\n",
       "1009   22  120   60  15.0   98.0   80  high risk\n",
       "1010   55  120   90  18.0   98.0   60  high risk\n",
       "1011   35   85   60  19.0   98.0   86  high risk\n",
       "1012   43  120   90  18.0   98.0   70  high risk\n",
       "1013   32  120   65   6.0  101.0   76   mid risk\n",
       "\n",
       "[1014 rows x 7 columns]"
      ]
     },
     "execution_count": 16,
     "metadata": {},
     "output_type": "execute_result"
    }
   ],
   "source": [
    "#importing the datasets from csv file in a dataframe and showing\n",
    "\n",
    "dF=pd.read_csv('r_dataset.csv')\n",
    "dF"
   ]
  },
  {
   "cell_type": "markdown",
   "id": "35d9ac24",
   "metadata": {},
   "source": [
    "<h2>Total Dataset Information</h2>\n",
    "\n",
    "The data was colleted from Maternal Health Risk Data Set . Data has been collected from different hospitals, community clinics, maternal health cares from the rural areas of Bangladesh through the IoT based risk monitoring system. The Age, Systolic Blood Pressure as SystolicBP, Diastolic BP as DiastolicBP, Blood Sugar as BS, Body Temperature as BodyTemp, HeartRate and RiskLevel. All these are the responsible and significant risk factors for maternal mortality, that is one of the main concern of SDG of UN.\n",
    "    \n",
    "   Attribute information:\n",
    " 1. AGE: Age-Any ages in years when a women during pregnant.\n",
    " 2.SBP: SystolicBP-Upper value of Blood Pressure in mmHg,another significant attribute during pregnancy.\n",
    " 3.DBP: DiastolicBP-Lower value of Blood Pressure in mmHg,another significant attribute during pregnancy.\n",
    " 4.BS:  Blood glucose levels is in terms of a molar concentration, mmol/L.\n",
    " 5.BTM: BodyTemprature troughout the pregnancy.\n",
    " 6.HRT: HeartRate-A normal resting heart rate in beats per minute.\n",
    " 7.RLV: Risk Level: Predicted Risk Intensity Level during pregnancy considering the previous attribute.\n",
    "\n",
    " Relevant Papers:\n",
    "\n",
    "1. Ahmed M., Kashem M.A., Rahman M., Khatun S. (2020) Review and Analysis of Risk Factor of Maternal Health in Remote Area Using the Internet of Things (IoT). In: Kasruddin Nasir A. et al. (eds) InECCE2019. Lecture Notes in Electrical Engineering, vol 632. Springer, Singapore. [Web Link]\n",
    "2. IoT based Risk Level Prediction Model for Maternal Health Care in the Context of Bangladesh, STI-2020, [under publication in IEEE]\n"
   ]
  },
  {
   "cell_type": "markdown",
   "id": "9d12b707",
   "metadata": {},
   "source": [
    "<h3> Cleaning the Dataset </h3>\n",
    "\n",
    "This dataset will be checked now to see if their is any null values\n"
   ]
  },
  {
   "cell_type": "code",
   "execution_count": 17,
   "id": "8b4d4128",
   "metadata": {},
   "outputs": [
    {
     "name": "stdout",
     "output_type": "stream",
     "text": [
      "<class 'pandas.core.frame.DataFrame'>\n",
      "RangeIndex: 1014 entries, 0 to 1013\n",
      "Data columns (total 7 columns):\n",
      " #   Column  Non-Null Count  Dtype  \n",
      "---  ------  --------------  -----  \n",
      " 0   AGE     1014 non-null   int64  \n",
      " 1   SBP     1014 non-null   int64  \n",
      " 2   DBP     1014 non-null   int64  \n",
      " 3   BS      1014 non-null   float64\n",
      " 4   BTM     1014 non-null   float64\n",
      " 5   HRT     1014 non-null   int64  \n",
      " 6   RLV     1014 non-null   object \n",
      "dtypes: float64(2), int64(4), object(1)\n",
      "memory usage: 55.6+ KB\n"
     ]
    }
   ],
   "source": [
    "#Exploring the Details of the dataset\n",
    "dF.info()"
   ]
  },
  {
   "cell_type": "code",
   "execution_count": 18,
   "id": "d8cee875",
   "metadata": {},
   "outputs": [
    {
     "data": {
      "text/html": [
       "<div>\n",
       "<style scoped>\n",
       "    .dataframe tbody tr th:only-of-type {\n",
       "        vertical-align: middle;\n",
       "    }\n",
       "\n",
       "    .dataframe tbody tr th {\n",
       "        vertical-align: top;\n",
       "    }\n",
       "\n",
       "    .dataframe thead th {\n",
       "        text-align: right;\n",
       "    }\n",
       "</style>\n",
       "<table border=\"1\" class=\"dataframe\">\n",
       "  <thead>\n",
       "    <tr style=\"text-align: right;\">\n",
       "      <th></th>\n",
       "      <th>AGE</th>\n",
       "      <th>SBP</th>\n",
       "      <th>DBP</th>\n",
       "      <th>BS</th>\n",
       "      <th>BTM</th>\n",
       "      <th>HRT</th>\n",
       "      <th>RLV</th>\n",
       "    </tr>\n",
       "  </thead>\n",
       "  <tbody>\n",
       "    <tr>\n",
       "      <th>0</th>\n",
       "      <td>25</td>\n",
       "      <td>130</td>\n",
       "      <td>80</td>\n",
       "      <td>15.0</td>\n",
       "      <td>98.0</td>\n",
       "      <td>86</td>\n",
       "      <td>high risk</td>\n",
       "    </tr>\n",
       "    <tr>\n",
       "      <th>1</th>\n",
       "      <td>35</td>\n",
       "      <td>140</td>\n",
       "      <td>90</td>\n",
       "      <td>13.0</td>\n",
       "      <td>98.0</td>\n",
       "      <td>70</td>\n",
       "      <td>high risk</td>\n",
       "    </tr>\n",
       "    <tr>\n",
       "      <th>2</th>\n",
       "      <td>29</td>\n",
       "      <td>90</td>\n",
       "      <td>70</td>\n",
       "      <td>8.0</td>\n",
       "      <td>100.0</td>\n",
       "      <td>80</td>\n",
       "      <td>high risk</td>\n",
       "    </tr>\n",
       "    <tr>\n",
       "      <th>3</th>\n",
       "      <td>30</td>\n",
       "      <td>140</td>\n",
       "      <td>85</td>\n",
       "      <td>7.0</td>\n",
       "      <td>98.0</td>\n",
       "      <td>70</td>\n",
       "      <td>high risk</td>\n",
       "    </tr>\n",
       "    <tr>\n",
       "      <th>4</th>\n",
       "      <td>35</td>\n",
       "      <td>120</td>\n",
       "      <td>60</td>\n",
       "      <td>6.1</td>\n",
       "      <td>98.0</td>\n",
       "      <td>76</td>\n",
       "      <td>low risk</td>\n",
       "    </tr>\n",
       "    <tr>\n",
       "      <th>...</th>\n",
       "      <td>...</td>\n",
       "      <td>...</td>\n",
       "      <td>...</td>\n",
       "      <td>...</td>\n",
       "      <td>...</td>\n",
       "      <td>...</td>\n",
       "      <td>...</td>\n",
       "    </tr>\n",
       "    <tr>\n",
       "      <th>1009</th>\n",
       "      <td>22</td>\n",
       "      <td>120</td>\n",
       "      <td>60</td>\n",
       "      <td>15.0</td>\n",
       "      <td>98.0</td>\n",
       "      <td>80</td>\n",
       "      <td>high risk</td>\n",
       "    </tr>\n",
       "    <tr>\n",
       "      <th>1010</th>\n",
       "      <td>55</td>\n",
       "      <td>120</td>\n",
       "      <td>90</td>\n",
       "      <td>18.0</td>\n",
       "      <td>98.0</td>\n",
       "      <td>60</td>\n",
       "      <td>high risk</td>\n",
       "    </tr>\n",
       "    <tr>\n",
       "      <th>1011</th>\n",
       "      <td>35</td>\n",
       "      <td>85</td>\n",
       "      <td>60</td>\n",
       "      <td>19.0</td>\n",
       "      <td>98.0</td>\n",
       "      <td>86</td>\n",
       "      <td>high risk</td>\n",
       "    </tr>\n",
       "    <tr>\n",
       "      <th>1012</th>\n",
       "      <td>43</td>\n",
       "      <td>120</td>\n",
       "      <td>90</td>\n",
       "      <td>18.0</td>\n",
       "      <td>98.0</td>\n",
       "      <td>70</td>\n",
       "      <td>high risk</td>\n",
       "    </tr>\n",
       "    <tr>\n",
       "      <th>1013</th>\n",
       "      <td>32</td>\n",
       "      <td>120</td>\n",
       "      <td>65</td>\n",
       "      <td>6.0</td>\n",
       "      <td>101.0</td>\n",
       "      <td>76</td>\n",
       "      <td>mid risk</td>\n",
       "    </tr>\n",
       "  </tbody>\n",
       "</table>\n",
       "<p>1014 rows × 7 columns</p>\n",
       "</div>"
      ],
      "text/plain": [
       "      AGE  SBP  DBP    BS    BTM  HRT        RLV\n",
       "0      25  130   80  15.0   98.0   86  high risk\n",
       "1      35  140   90  13.0   98.0   70  high risk\n",
       "2      29   90   70   8.0  100.0   80  high risk\n",
       "3      30  140   85   7.0   98.0   70  high risk\n",
       "4      35  120   60   6.1   98.0   76   low risk\n",
       "...   ...  ...  ...   ...    ...  ...        ...\n",
       "1009   22  120   60  15.0   98.0   80  high risk\n",
       "1010   55  120   90  18.0   98.0   60  high risk\n",
       "1011   35   85   60  19.0   98.0   86  high risk\n",
       "1012   43  120   90  18.0   98.0   70  high risk\n",
       "1013   32  120   65   6.0  101.0   76   mid risk\n",
       "\n",
       "[1014 rows x 7 columns]"
      ]
     },
     "execution_count": 18,
     "metadata": {},
     "output_type": "execute_result"
    }
   ],
   "source": [
    "#Replace null values with 'null'\n",
    "\n",
    "new_dF = dF.fillna('null')\n",
    "new_dF"
   ]
  },
  {
   "cell_type": "code",
   "execution_count": 19,
   "id": "f5e874a3",
   "metadata": {
    "scrolled": true
   },
   "outputs": [
    {
     "name": "stdout",
     "output_type": "stream",
     "text": [
      "<class 'pandas.core.frame.DataFrame'>\n",
      "RangeIndex: 1014 entries, 0 to 1013\n",
      "Data columns (total 7 columns):\n",
      " #   Column  Non-Null Count  Dtype  \n",
      "---  ------  --------------  -----  \n",
      " 0   AGE     1014 non-null   int64  \n",
      " 1   SBP     1014 non-null   int64  \n",
      " 2   DBP     1014 non-null   int64  \n",
      " 3   BS      1014 non-null   float64\n",
      " 4   BTM     1014 non-null   float64\n",
      " 5   HRT     1014 non-null   int64  \n",
      " 6   RLV     1014 non-null   object \n",
      "dtypes: float64(2), int64(4), object(1)\n",
      "memory usage: 55.6+ KB\n"
     ]
    }
   ],
   "source": [
    "new_dF.info()"
   ]
  },
  {
   "cell_type": "markdown",
   "id": "258ed511",
   "metadata": {},
   "source": [
    "<h3> Exploratory Data Analysis </h3>"
   ]
  },
  {
   "cell_type": "code",
   "execution_count": 20,
   "id": "4850500e",
   "metadata": {},
   "outputs": [
    {
     "data": {
      "text/plain": [
       "Index(['AGE', 'SBP', 'DBP', 'BS', 'BTM', 'HRT', 'RLV'], dtype='object')"
      ]
     },
     "execution_count": 20,
     "metadata": {},
     "output_type": "execute_result"
    }
   ],
   "source": [
    "#Returning All the keys from the dataset\n",
    "new_dF.keys()"
   ]
  },
  {
   "cell_type": "code",
   "execution_count": 21,
   "id": "622e0385",
   "metadata": {},
   "outputs": [
    {
     "data": {
      "text/html": [
       "<div>\n",
       "<style scoped>\n",
       "    .dataframe tbody tr th:only-of-type {\n",
       "        vertical-align: middle;\n",
       "    }\n",
       "\n",
       "    .dataframe tbody tr th {\n",
       "        vertical-align: top;\n",
       "    }\n",
       "\n",
       "    .dataframe thead th {\n",
       "        text-align: right;\n",
       "    }\n",
       "</style>\n",
       "<table border=\"1\" class=\"dataframe\">\n",
       "  <thead>\n",
       "    <tr style=\"text-align: right;\">\n",
       "      <th></th>\n",
       "      <th>AGE</th>\n",
       "      <th>SBP</th>\n",
       "      <th>DBP</th>\n",
       "      <th>BS</th>\n",
       "      <th>BTM</th>\n",
       "      <th>HRT</th>\n",
       "      <th>RLV</th>\n",
       "    </tr>\n",
       "  </thead>\n",
       "  <tbody>\n",
       "    <tr>\n",
       "      <th>0</th>\n",
       "      <td>25</td>\n",
       "      <td>130</td>\n",
       "      <td>80</td>\n",
       "      <td>15.0</td>\n",
       "      <td>98.0</td>\n",
       "      <td>86</td>\n",
       "      <td>True</td>\n",
       "    </tr>\n",
       "    <tr>\n",
       "      <th>1</th>\n",
       "      <td>35</td>\n",
       "      <td>140</td>\n",
       "      <td>90</td>\n",
       "      <td>13.0</td>\n",
       "      <td>98.0</td>\n",
       "      <td>70</td>\n",
       "      <td>True</td>\n",
       "    </tr>\n",
       "    <tr>\n",
       "      <th>2</th>\n",
       "      <td>29</td>\n",
       "      <td>90</td>\n",
       "      <td>70</td>\n",
       "      <td>8.0</td>\n",
       "      <td>100.0</td>\n",
       "      <td>80</td>\n",
       "      <td>True</td>\n",
       "    </tr>\n",
       "    <tr>\n",
       "      <th>3</th>\n",
       "      <td>30</td>\n",
       "      <td>140</td>\n",
       "      <td>85</td>\n",
       "      <td>7.0</td>\n",
       "      <td>98.0</td>\n",
       "      <td>70</td>\n",
       "      <td>True</td>\n",
       "    </tr>\n",
       "    <tr>\n",
       "      <th>4</th>\n",
       "      <td>35</td>\n",
       "      <td>120</td>\n",
       "      <td>60</td>\n",
       "      <td>6.1</td>\n",
       "      <td>98.0</td>\n",
       "      <td>76</td>\n",
       "      <td>False</td>\n",
       "    </tr>\n",
       "    <tr>\n",
       "      <th>...</th>\n",
       "      <td>...</td>\n",
       "      <td>...</td>\n",
       "      <td>...</td>\n",
       "      <td>...</td>\n",
       "      <td>...</td>\n",
       "      <td>...</td>\n",
       "      <td>...</td>\n",
       "    </tr>\n",
       "    <tr>\n",
       "      <th>1009</th>\n",
       "      <td>22</td>\n",
       "      <td>120</td>\n",
       "      <td>60</td>\n",
       "      <td>15.0</td>\n",
       "      <td>98.0</td>\n",
       "      <td>80</td>\n",
       "      <td>True</td>\n",
       "    </tr>\n",
       "    <tr>\n",
       "      <th>1010</th>\n",
       "      <td>55</td>\n",
       "      <td>120</td>\n",
       "      <td>90</td>\n",
       "      <td>18.0</td>\n",
       "      <td>98.0</td>\n",
       "      <td>60</td>\n",
       "      <td>True</td>\n",
       "    </tr>\n",
       "    <tr>\n",
       "      <th>1011</th>\n",
       "      <td>35</td>\n",
       "      <td>85</td>\n",
       "      <td>60</td>\n",
       "      <td>19.0</td>\n",
       "      <td>98.0</td>\n",
       "      <td>86</td>\n",
       "      <td>True</td>\n",
       "    </tr>\n",
       "    <tr>\n",
       "      <th>1012</th>\n",
       "      <td>43</td>\n",
       "      <td>120</td>\n",
       "      <td>90</td>\n",
       "      <td>18.0</td>\n",
       "      <td>98.0</td>\n",
       "      <td>70</td>\n",
       "      <td>True</td>\n",
       "    </tr>\n",
       "    <tr>\n",
       "      <th>1013</th>\n",
       "      <td>32</td>\n",
       "      <td>120</td>\n",
       "      <td>65</td>\n",
       "      <td>6.0</td>\n",
       "      <td>101.0</td>\n",
       "      <td>76</td>\n",
       "      <td>True or False</td>\n",
       "    </tr>\n",
       "  </tbody>\n",
       "</table>\n",
       "<p>1014 rows × 7 columns</p>\n",
       "</div>"
      ],
      "text/plain": [
       "      AGE  SBP  DBP    BS    BTM  HRT            RLV\n",
       "0      25  130   80  15.0   98.0   86           True\n",
       "1      35  140   90  13.0   98.0   70           True\n",
       "2      29   90   70   8.0  100.0   80           True\n",
       "3      30  140   85   7.0   98.0   70           True\n",
       "4      35  120   60   6.1   98.0   76          False\n",
       "...   ...  ...  ...   ...    ...  ...            ...\n",
       "1009   22  120   60  15.0   98.0   80           True\n",
       "1010   55  120   90  18.0   98.0   60           True\n",
       "1011   35   85   60  19.0   98.0   86           True\n",
       "1012   43  120   90  18.0   98.0   70           True\n",
       "1013   32  120   65   6.0  101.0   76  True or False\n",
       "\n",
       "[1014 rows x 7 columns]"
      ]
     },
     "execution_count": 21,
     "metadata": {},
     "output_type": "execute_result"
    }
   ],
   "source": [
    "#Replacing the Target Column True/False value with high/low/mild blood suger levels information\n",
    "new_dF['RLV']=new_dF['RLV'].replace(['high risk','mid risk','low risk'],['True','True or False','False'])\n",
    "new_dF"
   ]
  },
  {
   "cell_type": "markdown",
   "id": "f7881fd5",
   "metadata": {},
   "source": [
    "The risk factors are determined by BS(blood glucose) and changing high risk, low risk and mild risk to a true,false output, in maternal health cares from the rural areas of Bangladesh."
   ]
  },
  {
   "cell_type": "code",
   "execution_count": 97,
   "id": "f33481f6",
   "metadata": {},
   "outputs": [
    {
     "data": {
      "text/plain": [
       "Text(0.5, 1.0, 'Number of women at maternal health risk')"
      ]
     },
     "execution_count": 97,
     "metadata": {},
     "output_type": "execute_result"
    },
    {
     "data": {
      "image/png": "[encoded data removed]",
      "text/plain": [
       "<Figure size 720x360 with 1 Axes>"
      ]
     },
     "metadata": {},
     "output_type": "display_data"
    }
   ],
   "source": [
    "# showing the number of woman at  diffrent risk levels \n",
    "#data distribution of the target variable(RLV)\n",
    "\n",
    "plt.figure(figsize=(10,5))\n",
    "sns.countplot(x='RLV', data=dF, palette='rainbow')\n",
    "plt.title('Number of women at maternal health risk')    \n"
   ]
  },
  {
   "cell_type": "markdown",
   "id": "05dbd8a8",
   "metadata": {},
   "source": [
    "<h3> Data exploration Models </h3>\n"
   ]
  },
  {
   "cell_type": "code",
   "execution_count": 92,
   "id": "ea93bd02",
   "metadata": {},
   "outputs": [
    {
     "data": {
      "text/plain": [
       "Text(0.5, 1.0, 'Swarmplot on diffrent glucouse level and health risk')"
      ]
     },
     "execution_count": 92,
     "metadata": {},
     "output_type": "execute_result"
    },
    {
     "data": {
      "image/png": "[encoded data removed]",
      "text/plain": [
       "<Figure size 720x360 with 1 Axes>"
      ]
     },
     "metadata": {},
     "output_type": "display_data"
    }
   ],
   "source": [
    "#plotting the Data of the blood glucouse levels and the level of health risk \n",
    "sns.set_style(\"white\")\n",
    "plt.figure(figsize=(10,5))\n",
    "sns.stripplot(x='RLV', y='BS', data=dF)\n",
    "plt.title(\"Swarmplot on diffrent glucouse level and health risk\")\n"
   ]
  },
  {
   "cell_type": "code",
   "execution_count": 90,
   "id": "4d59cedc",
   "metadata": {},
   "outputs": [
    {
     "data": {
      "text/plain": [
       "Text(0.5, 1.0, 'Scatter plot on the age based on suger levels')"
      ]
     },
     "execution_count": 90,
     "metadata": {},
     "output_type": "execute_result"
    },
    {
     "data": {
      "image/png": "[encoded data removed]",
      "text/plain": [
       "<Figure size 720x360 with 1 Axes>"
      ]
     },
     "metadata": {},
     "output_type": "display_data"
    }
   ],
   "source": [
    "#plotting the Data if women with high glucouse level and their risk level.\n",
    "plt.figure(figsize=(10,5))\n",
    "plt.scatter(dF['AGE'],dF['BS'])\n",
    "plt.title(\"Scatter plot on the age based on suger levels\")"
   ]
  },
  {
   "cell_type": "code",
   "execution_count": 95,
   "id": "99c7f98b",
   "metadata": {},
   "outputs": [
    {
     "data": {
      "text/plain": [
       "Text(0.5, 1.0, 'Scatter plot on the age and risk level during maternity')"
      ]
     },
     "execution_count": 95,
     "metadata": {},
     "output_type": "execute_result"
    },
    {
     "data": {
      "image/png": "[encoded data removed]",
      "text/plain": [
       "<Figure size 720x360 with 1 Axes>"
      ]
     },
     "metadata": {},
     "output_type": "display_data"
    }
   ],
   "source": [
    "#plotting data to compare the ages and risk rate\n",
    "plt.figure(figsize=(10,5))\n",
    "plt.scatter (dF['AGE'],dF['RLV'])\n",
    "\n",
    "plt.title(\"Scatter plot on the age and risk level during maternity\")"
   ]
  },
  {
   "cell_type": "markdown",
   "id": "140d9367",
   "metadata": {},
   "source": [
    "<h3> Outcome from the plotting</h3>\n",
    "\n",
    "Here, thought the ploting of the data based on the risk levels and the glucous level in the blood it can be determined that women with higher blood glucose level have a higher risk than a woman with lower blood glucouse. Then the age and risk level of the womens were taken ito considation for a generating a idea with the help of the plotting.\n"
   ]
  },
  {
   "cell_type": "markdown",
   "id": "8f80654b",
   "metadata": {},
   "source": [
    "<h2> Creating the Model </h2>"
   ]
  },
  {
   "cell_type": "code",
   "execution_count": 60,
   "id": "3621c1c7",
   "metadata": {},
   "outputs": [
    {
     "data": {
      "text/plain": [
       "RLV\n",
       "high risk    272\n",
       "low risk     406\n",
       "mid risk     336\n",
       "dtype: int64"
      ]
     },
     "execution_count": 60,
     "metadata": {},
     "output_type": "execute_result"
    }
   ],
   "source": [
    "#counting the numbers of the womens at high,low and mild risk\n",
    "dF.groupby('RLV').size()"
   ]
  },
  {
   "cell_type": "code",
   "execution_count": 91,
   "id": "2f0814f1",
   "metadata": {},
   "outputs": [
    {
     "data": {
      "image/png": "[encoded data removed]",
      "text/plain": [
       "<Figure size 720x360 with 2 Axes>"
      ]
     },
     "metadata": {},
     "output_type": "display_data"
    }
   ],
   "source": [
    "#creating the correlation Matrix for the whole Dataset\n",
    "\n",
    "from sklearn.model_selection import train_test_split\n",
    "from sklearn.preprocessing import LabelEncoder\n",
    "\n",
    "from sklearn.metrics import classification_report, confusion_matrix, precision_recall_curve, auc, roc_curve\n",
    "from sklearn.tree import DecisionTreeClassifier, export_graphviz\n",
    "\n",
    "labelencoder=LabelEncoder() #it is used to convert the categorical data into machine readable form\n",
    "for column in dF.columns:\n",
    "    dF[column] = labelencoder.fit_transform(dF[column])\n",
    "\n",
    "\n",
    "plt.figure(figsize=(10,5))\n",
    "sns.heatmap(dF.corr(),linewidths=.1,cmap=\"YlGnBu\", annot=True)\n",
    "plt.yticks(rotation=0);\n",
    " "
   ]
  },
  {
   "cell_type": "markdown",
   "id": "10e71629",
   "metadata": {},
   "source": [
    "<h3>Total 2 columns have been selected from the dataset based on correlation</h3>\n",
    "\n",
    "<b>SBP(Systolic blood pressure)</b>-systolic blood pressure of 160 mm or higher can produce complication in maternal health. so, The women are at higher risk.\n",
    "This column is important information for the well-being and health of maternal health and predicting future risk patterns.\n",
    "\n",
    "<b>DBP(Diastolic blood pressure)</b>-diastolic blood pressure of 110 mm Hg or higher can produce higher risk level during maternal health.\n",
    "This column is important information for the well-being and health of maternal health and predicting future risk patterns."
   ]
  },
  {
   "cell_type": "code",
   "execution_count": 66,
   "id": "d9e500f4",
   "metadata": {},
   "outputs": [
    {
     "data": {
      "text/html": [
       "<div>\n",
       "<style scoped>\n",
       "    .dataframe tbody tr th:only-of-type {\n",
       "        vertical-align: middle;\n",
       "    }\n",
       "\n",
       "    .dataframe tbody tr th {\n",
       "        vertical-align: top;\n",
       "    }\n",
       "\n",
       "    .dataframe thead th {\n",
       "        text-align: right;\n",
       "    }\n",
       "</style>\n",
       "<table border=\"1\" class=\"dataframe\">\n",
       "  <thead>\n",
       "    <tr style=\"text-align: right;\">\n",
       "      <th></th>\n",
       "      <th>SBP</th>\n",
       "      <th>DBP</th>\n",
       "    </tr>\n",
       "  </thead>\n",
       "  <tbody>\n",
       "    <tr>\n",
       "      <th>0</th>\n",
       "      <td>15</td>\n",
       "      <td>10</td>\n",
       "    </tr>\n",
       "    <tr>\n",
       "      <th>1</th>\n",
       "      <td>17</td>\n",
       "      <td>13</td>\n",
       "    </tr>\n",
       "    <tr>\n",
       "      <th>2</th>\n",
       "      <td>7</td>\n",
       "      <td>7</td>\n",
       "    </tr>\n",
       "    <tr>\n",
       "      <th>3</th>\n",
       "      <td>17</td>\n",
       "      <td>11</td>\n",
       "    </tr>\n",
       "    <tr>\n",
       "      <th>4</th>\n",
       "      <td>13</td>\n",
       "      <td>2</td>\n",
       "    </tr>\n",
       "    <tr>\n",
       "      <th>...</th>\n",
       "      <td>...</td>\n",
       "      <td>...</td>\n",
       "    </tr>\n",
       "    <tr>\n",
       "      <th>1009</th>\n",
       "      <td>13</td>\n",
       "      <td>2</td>\n",
       "    </tr>\n",
       "    <tr>\n",
       "      <th>1010</th>\n",
       "      <td>13</td>\n",
       "      <td>13</td>\n",
       "    </tr>\n",
       "    <tr>\n",
       "      <th>1011</th>\n",
       "      <td>6</td>\n",
       "      <td>2</td>\n",
       "    </tr>\n",
       "    <tr>\n",
       "      <th>1012</th>\n",
       "      <td>13</td>\n",
       "      <td>13</td>\n",
       "    </tr>\n",
       "    <tr>\n",
       "      <th>1013</th>\n",
       "      <td>13</td>\n",
       "      <td>4</td>\n",
       "    </tr>\n",
       "  </tbody>\n",
       "</table>\n",
       "<p>1014 rows × 2 columns</p>\n",
       "</div>"
      ],
      "text/plain": [
       "      SBP  DBP\n",
       "0      15   10\n",
       "1      17   13\n",
       "2       7    7\n",
       "3      17   11\n",
       "4      13    2\n",
       "...   ...  ...\n",
       "1009   13    2\n",
       "1010   13   13\n",
       "1011    6    2\n",
       "1012   13   13\n",
       "1013   13    4\n",
       "\n",
       "[1014 rows x 2 columns]"
      ]
     },
     "execution_count": 66,
     "metadata": {},
     "output_type": "execute_result"
    }
   ],
   "source": [
    "#creating the updated metrix using important colums\n",
    "up_df=dF[['SBP', 'DBP']]\n",
    "up_df\n"
   ]
  },
  {
   "cell_type": "code",
   "execution_count": 67,
   "id": "02f78f71",
   "metadata": {},
   "outputs": [
    {
     "data": {
      "text/plain": [
       "0       0\n",
       "1       0\n",
       "2       0\n",
       "3       0\n",
       "4       1\n",
       "       ..\n",
       "1009    0\n",
       "1010    0\n",
       "1011    0\n",
       "1012    0\n",
       "1013    2\n",
       "Name: RLV, Length: 1014, dtype: int32"
      ]
     },
     "execution_count": 67,
     "metadata": {},
     "output_type": "execute_result"
    }
   ],
   "source": [
    "#seprating the target variable\n",
    "y=dF['RLV']\n",
    "y"
   ]
  },
  {
   "cell_type": "markdown",
   "id": "11868217",
   "metadata": {},
   "source": [
    "<p> Total 5 algorithms have been used to test the accuracy of this model. They are listed below:</p> \n",
    "    <li> naive bayes</li>\n",
    "    <li> knn </li>\n",
    "\t<li> decision tree </li>\n",
    "\t<li>logistic regression</li>\n",
    "\t <li> svm</li>"
   ]
  },
  {
   "cell_type": "code",
   "execution_count": 75,
   "id": "87ffea2d",
   "metadata": {},
   "outputs": [
    {
     "name": "stdout",
     "output_type": "stream",
     "text": [
      "X_training shape:  (709, 2)\n",
      "X_testing shape:  (305, 2)\n"
     ]
    }
   ],
   "source": [
    "#using data splitting functions from scikit-learn\n",
    "from sklearn.model_selection import train_test_split\n",
    "X_train, X_test, y_train, y_test = train_test_split(up_df, y, test_size = 0.3, random_state = 16)\n",
    "print(\"X_training shape: \", X_train.shape)\n",
    "print(\"X_testing shape: \", X_test.shape)\n"
   ]
  },
  {
   "cell_type": "markdown",
   "id": "864283cc",
   "metadata": {},
   "source": [
    "<h3>Traing and Testing Dataset</h3>\n",
    "\n",
    "<b>Training</b>- 709 out of 1014 data has been choosen for training the model <br>\n",
    "<b>Testing</b>-  305 out of 1014 data has been choosen for the testing model."
   ]
  },
  {
   "cell_type": "code",
   "execution_count": 77,
   "id": "7682095f",
   "metadata": {},
   "outputs": [
    {
     "name": "stdout",
     "output_type": "stream",
     "text": [
      "The accuracy of the model based on Naive Bayes Algorithm is 50.82%\n"
     ]
    }
   ],
   "source": [
    "#Naive bayes\n",
    "# importing the necessary package to use the naive bayes algorithm\n",
    "from sklearn.naive_bayes import GaussianNB\n",
    "model_nb = GaussianNB()\n",
    "model_nb.fit(X_train, y_train)\n",
    "y_prediction_nb = model_nb.predict(X_test)\n",
    "score_nb = metrics.accuracy_score(y_prediction_nb, y_test).round(4)\n",
    "print('The accuracy of the model based on Naive Bayes Algorithm is {}%'.format(score_nb*100))\n",
    "perc.append(score_nb)"
   ]
  },
  {
   "cell_type": "code",
   "execution_count": 79,
   "id": "f893d180",
   "metadata": {},
   "outputs": [
    {
     "name": "stdout",
     "output_type": "stream",
     "text": [
      "The accuracy of the model based on K Nearest Neighbour Algorithm is 45.57%\n"
     ]
    }
   ],
   "source": [
    "#Knn\n",
    "# importing the necessary package to use the knn algorithm\n",
    "from sklearn.neighbors import KNeighborsClassifier \n",
    "model_knn = KNeighborsClassifier(n_neighbors=3) \n",
    "model_knn.fit(X_train, y_train) \n",
    "y_prediction_knn = model_knn.predict(X_test)\n",
    "score_knn = metrics.accuracy_score(y_prediction_knn, y_test).round(4)\n",
    "print('The accuracy of the model based on K Nearest Neighbour Algorithm is {}%'.format(score_knn*100))\n",
    "perc.append(score_knn)"
   ]
  },
  {
   "cell_type": "code",
   "execution_count": 84,
   "id": "dbd3d449",
   "metadata": {},
   "outputs": [
    {
     "name": "stdout",
     "output_type": "stream",
     "text": [
      "The accuracy of the model based on Decision Tree Algorithm is 58.36%\n"
     ]
    }
   ],
   "source": [
    "# importing the necessary package to use the decision tree algorithm\n",
    "from sklearn.tree import DecisionTreeClassifier\n",
    "model_dt = DecisionTreeClassifier(random_state=4)\n",
    "model_dt.fit(X_train, y_train)\n",
    "y_prediction_dt = model_dt.predict(X_test)\n",
    "score_dt = metrics.accuracy_score(y_prediction_dt, y_test).round(4)\n",
    "print('The accuracy of the model based on Decision Tree Algorithm is {}%'.format(score_dt*100))\n",
    "perc.append(score_dt)"
   ]
  },
  {
   "cell_type": "code",
   "execution_count": 80,
   "id": "45f93b0a",
   "metadata": {},
   "outputs": [
    {
     "name": "stdout",
     "output_type": "stream",
     "text": [
      "The accuracy of the model based on Logistic Regression Algorithm is 55.74%\n"
     ]
    }
   ],
   "source": [
    "#logistic regression algorithm\n",
    "# importing the necessary package to use the logistic regression algorithm\n",
    "from sklearn.linear_model import LogisticRegression \n",
    "model_lr = LogisticRegression()\n",
    "model_lr.fit(X_train, y_train)\n",
    "y_prediction_lr = model_lr.predict(X_test) \n",
    "score_lr = metrics.accuracy_score(y_prediction_lr, y_test).round(4)\n",
    "print('The accuracy of the model based on Logistic Regression Algorithm is {}%'.format(score_lr*100))\n",
    "perc.append(score_lr)"
   ]
  },
  {
   "cell_type": "code",
   "execution_count": 83,
   "id": "6c079f53",
   "metadata": {},
   "outputs": [
    {
     "name": "stdout",
     "output_type": "stream",
     "text": [
      "The accuracy of the model based on Support Vector Machine Algorithm is 58.69%\n"
     ]
    }
   ],
   "source": [
    "#svm \n",
    "# importing the necessary package to use the svm algorithm\n",
    "from sklearn import svm \n",
    "model_svm = svm.SVC() \n",
    "model_svm.fit(X_train, y_train) \n",
    "y_prediction_svm = model_svm.predict(X_test) \n",
    "score_svm = metrics.accuracy_score(y_prediction_svm, y_test).round(4)\n",
    "print('The accuracy of the model based on Support Vector Machine Algorithm is {}%'.format(score_svm*100))\n",
    "perc.append(score_svm)"
   ]
  },
  {
   "cell_type": "code",
   "execution_count": 82,
   "id": "18659646",
   "metadata": {},
   "outputs": [
    {
     "name": "stdout",
     "output_type": "stream",
     "text": [
      "The maximum accuracy from all these algorithm is 0.5869\n"
     ]
    }
   ],
   "source": [
    "max=perc[0]\n",
    "for i in range(0,len(perc),+1):\n",
    "    if perc[i]>=max:\n",
    "        max=perc[i]\n",
    "        \n",
    "print('The maximum accuracy from all these algorithm is '+str(max))  \n",
    "   "
   ]
  },
  {
   "cell_type": "markdown",
   "id": "1b4fce10",
   "metadata": {},
   "source": [
    "<h2> Model Accuracy</h2>\n",
    "\n",
    "This model has an accuracy of 50.82%. Based on Support Naive Bayes Algorithm and 58% based on svm algorithm,decision tree Algorithm."
   ]
  },
  {
   "cell_type": "markdown",
   "id": "e6b4f279",
   "metadata": {},
   "source": [
    "<h2>Discussion</h2>\n",
    "\n",
    "This model is created based on the Maternal Health Risk Data Set which has the data of high,low and mild risk. This model has an accuracy of 50.82%. Which is not the best result or outcome in this data set which has 1014 numbers of instances. This desions where made by diffrent modeles chossing the most relevent data through diffrent plotting and graphs. still as the accuracy is not even near the 70% it might not be an ideal result. which might be the solved if their where more attributes and data sets. If we had more columns which had more correlatation with the other variable the prediction could have been more better. As, it was based on a real life dataset, the prediction can also be called a realistic if it predicts the correct result.  "
   ]
  },
  {
   "cell_type": "code",
   "execution_count": null,
   "id": "6e3f8ddf",
   "metadata": {},
   "outputs": [],
   "source": []
  }
 ],
 "metadata": {
  "kernelspec": {
   "display_name": "Python 3 (ipykernel)",
   "language": "python",
   "name": "python3"
  },
  "language_info": {
   "codemirror_mode": {
    "name": "ipython",
    "version": 3
   },
   "file_extension": ".py",
   "mimetype": "text/x-python",
   "name": "python",
   "nbconvert_exporter": "python",
   "pygments_lexer": "ipython3",
   "version": "3.9.7"
  }
 },
 "nbformat": 4,
 "nbformat_minor": 5
}
